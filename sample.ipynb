{
 "cells": [
  {
   "cell_type": "code",
   "execution_count": null,
   "id": "0",
   "metadata": {},
   "outputs": [],
   "source": [
    "import pandas as pd\n",
    "# df = pd.read_csv(\"universities_osm.csv\")\n",
    "# df = df.drop('geometry', axis=1)\n",
    "# df.sample(10)\n",
    "\n",
    "# df.to_csv(\"final.csv\")\n",
    "\n",
    "\n",
    "phar = pd.read_csv(\"pharmacy_osm.csv\")\n",
    "phar = phar.drop(\"geometry\", axis=1)\n",
    "phar.sample()"
   ]
  },
  {
   "cell_type": "code",
   "execution_count": null,
   "id": "1",
   "metadata": {},
   "outputs": [],
   "source": [
    "import pandas as pd\n",
    "import folium\n",
    "import geopandas as gpd\n",
    "import osmnx as ox\n",
    "import numpy as np\n",
    "from shapely.geometry import box\n",
    "\n",
    "# -------------------------------\n",
    "# 1. Load Islamabad boundary and create grid\n",
    "# -------------------------------\n",
    "place_name = \"Islamabad, Pakistan\"\n",
    "boundary = ox.geocode_to_gdf(place_name)\n",
    "\n",
    "minx, miny, maxx, maxy = boundary.total_bounds\n",
    "step = 0.009\n",
    "\n",
    "cells = [box(x, y, x + step, y + step)\n",
    "         for x in np.arange(minx, maxx, step)\n",
    "         for y in np.arange(miny, maxy, step)]\n",
    "\n",
    "grid = gpd.GeoDataFrame(geometry=cells, crs=\"EPSG:4326\")\n",
    "clipped_grid = gpd.overlay(grid, boundary, how=\"intersection\")\n",
    "clipped_grid[\"grid_id\"] = range(len(clipped_grid))\n",
    "\n",
    "# -------------------------------\n",
    "# 2. Load university data from CSV\n",
    "# -------------------------------\n",
    "df_uni = pd.read_csv(\"final.csv\")\n",
    "\n",
    "# -------------------------------\n",
    "# 3. Initialize folium map\n",
    "# -------------------------------\n",
    "center = boundary.geometry.centroid.iloc[0]\n",
    "m = folium.Map(location=[center.y, center.x], zoom_start=12, tiles=\"OpenStreetMap\")\n",
    "\n",
    "# -------------------------------\n",
    "# 4. Add grid cells\n",
    "# -------------------------------\n",
    "for _, row in clipped_grid.iterrows():\n",
    "    folium.GeoJson(\n",
    "        row[\"geometry\"],\n",
    "        style_function=lambda x: {\n",
    "            'fillColor': 'none',\n",
    "            'color': 'black',\n",
    "            'weight': 1,\n",
    "            'fillOpacity': 0\n",
    "        },\n",
    "        tooltip=f\"Grid ID: {row['grid_id']}\"\n",
    "    ).add_to(m)\n",
    "\n",
    "# -------------------------------\n",
    "# 5. Add university markers with flag icon\n",
    "# -------------------------------\n",
    "for _, row in df_uni.iterrows():\n",
    "    folium.Marker(\n",
    "        location=[row['lat'], row['lon']],\n",
    "        popup=row['name'],\n",
    "        tooltip=row['name'],\n",
    "        icon=folium.Icon(icon='flag', color='red')\n",
    "    ).add_to(m)\n",
    "\n",
    "# -------------------------------\n",
    "# 6. Save the map\n",
    "# -------------------------------\n",
    "m.save(\"C:/Users/tehma/OneDrive/Desktop/Shop Prediction Model/SHOP_PROJECT/All_HTML_Mappings/islamabad_grid_with_universities.html\")\n",
    "\n"
   ]
  },
  {
   "cell_type": "code",
   "execution_count": null,
   "id": "2",
   "metadata": {},
   "outputs": [],
   "source": [
    "m"
   ]
  },
  {
   "cell_type": "code",
   "execution_count": null,
   "id": "3",
   "metadata": {},
   "outputs": [],
   "source": []
  }
 ],
 "metadata": {
  "kernelspec": {
   "display_name": "Python 3",
   "language": "python",
   "name": "python3"
  },
  "language_info": {
   "codemirror_mode": {
    "name": "ipython",
    "version": 3
   },
   "file_extension": ".py",
   "mimetype": "text/x-python",
   "name": "python",
   "nbconvert_exporter": "python",
   "pygments_lexer": "ipython3",
   "version": "3.10.0"
  }
 },
 "nbformat": 4,
 "nbformat_minor": 5
}
