{
 "cells": [
  {
   "cell_type": "markdown",
   "id": "0",
   "metadata": {},
   "source": [
    "# We first need all the datasets related to the province in which we are working like in Islamabad for Now"
   ]
  },
  {
   "cell_type": "markdown",
   "id": "1",
   "metadata": {},
   "source": []
  },
  {
   "cell_type": "code",
   "execution_count": null,
   "id": "2",
   "metadata": {},
   "outputs": [],
   "source": [
    "import osmnx as ox\n",
    "import folium\n",
    "import pandas as pd\n"
   ]
  },
  {
   "cell_type": "code",
   "execution_count": null,
   "id": "3",
   "metadata": {},
   "outputs": [],
   "source": [
    "\n",
    "# Define Islamabad\n",
    "# place_name = \"Islamabad, Pakistan\"\n",
    "\n",
    "# # Get Islamabad boundary\n",
    "# gdf = ox.geocode_to_gdf(place_name)\n",
    "# center = gdf.geometry.centroid.iloc[0]\n",
    "# lat, lon = center.y, center.x\n",
    "\n",
    "# # Create folium map\n",
    "# m = folium.Map(location=[lat, lon], zoom_start=13, tiles='OpenStreetMap')\n",
    "\n",
    "# # -------------------------------\n",
    "# # 1. Points of Interest (blue)\n",
    "# # -------------------------------\n",
    "# # Get all POIs like shops, offices, schools, etc.\n",
    "# tags_poi = {\"amenity\": True, \"shop\": True, \"tourism\": True}\n",
    "# pois = ox.features_from_place(place_name, tags_poi)\n",
    "\n",
    "# for _, row in pois.iterrows():\n",
    "#     if row.geometry.geom_type == 'Point':\n",
    "#         folium.CircleMarker(\n",
    "#             location=[row.geometry.y, row.geometry.x],\n",
    "#             radius=3,\n",
    "#             color='blue',\n",
    "#             fill=True,\n",
    "#             fill_opacity=0.6,\n",
    "#             popup=row.get('name', 'POI')\n",
    "#         ).add_to(m)\n",
    "\n",
    "# # -------------------------------\n",
    "# # 2. Road Network (green lines)\n",
    "# # -------------------------------\n",
    "# G = ox.graph_from_place(place_name, network_type='drive')\n",
    "# edges = ox.graph_to_gdfs(G, nodes=False, edges=True)\n",
    "\n",
    "# for _, row in edges.iterrows():\n",
    "#     coords = list(row.geometry.coords)\n",
    "#     folium.PolyLine(locations=[(lat, lon) for lon, lat in coords], color='green', weight=1.5).add_to(m)\n",
    "\n",
    "# # -------------------------------\n",
    "# # 3. Non-constructive areas (red)\n",
    "# # -------------------------------\n",
    "# # These include parks, lakes, etc.\n",
    "# tags_nca = {\n",
    "#     \"leisure\": [\"park\", \"nature_reserve\", \"garden\"],\n",
    "#     \"landuse\": [\"forest\", \"recreation_ground\", \"grass\", \"meadow\"],\n",
    "#     \"natural\": [\"water\", \"wetland\"]\n",
    "# }\n",
    "# nca = ox.features_from_place(place_name, tags_nca)\n",
    "\n",
    "# for _, row in nca.iterrows():\n",
    "#     if row.geometry.geom_type in ['Polygon', 'MultiPolygon']:\n",
    "#         folium.GeoJson(\n",
    "#             row.geometry,\n",
    "#             style_function=lambda x: {'fillColor': 'red', 'color': 'red', 'weight': 1, 'fillOpacity': 0.5}\n",
    "#         ).add_to(m)\n",
    "\n",
    "# # -------------------------------\n",
    "# # Save or show\n",
    "# # -------------------------------\n",
    "# m.save(\"islamabad_visualized.html\")"
   ]
  },
  {
   "cell_type": "code",
   "execution_count": null,
   "id": "4",
   "metadata": {},
   "outputs": [],
   "source": [
    "#m"
   ]
  },
  {
   "cell_type": "code",
   "execution_count": null,
   "id": "5",
   "metadata": {},
   "outputs": [],
   "source": [
    "place = \"Islamabad, Pakistan\"\n",
    "tags = {\n",
    "    'amenity': ['restaurant', 'fast_food', 'school', 'bank', 'hospital', 'cafe'],\n",
    "    'shop': True\n",
    "}\n",
    "\n",
    "# Make sure osmnx version is 1.1.0 or later\n",
    "pois = ox.features_from_place(place, tags)  # ✅ correct method in latest version\n",
    "pois[['geometry', 'name', 'amenity', 'shop']].to_csv('pois.csv')"
   ]
  },
  {
   "cell_type": "code",
   "execution_count": null,
   "id": "6",
   "metadata": {},
   "outputs": [],
   "source": [
    "df = pd.read_csv(\"pois.csv\")"
   ]
  },
  {
   "cell_type": "code",
   "execution_count": null,
   "id": "7",
   "metadata": {},
   "outputs": [],
   "source": [
    "df.head(10)"
   ]
  },
  {
   "cell_type": "code",
   "execution_count": null,
   "id": "8",
   "metadata": {},
   "outputs": [],
   "source": [
    "df.sample(2)"
   ]
  },
  {
   "cell_type": "code",
   "execution_count": null,
   "id": "9",
   "metadata": {},
   "outputs": [],
   "source": [
    "import pandas as pd\n",
    "from shapely import wkt\n",
    "from shapely.geometry import Point, Polygon\n",
    "\n",
    "# Load your raw pois.csv\n",
    "df = pd.read_csv(\"pois.csv\")\n",
    "\n",
    "# Drop rows where both amenity and shop are missing\n",
    "df = df.dropna(subset=[\"amenity\", \"shop\"], how='all')\n",
    "\n",
    "# Merge amenity and shop into one clean 'category' column\n",
    "df[\"category\"] = df[\"amenity\"].fillna(df[\"shop\"])\n",
    "\n",
    "# Drop original columns (optional)\n",
    "df = df.drop(columns=[\"amenity\", \"shop\"])\n",
    "\n",
    "# Convert geometry WKT to shapely objects\n",
    "df[\"geometry\"] = df[\"geometry\"].apply(wkt.loads)\n",
    "\n",
    "# Extract lat/lon from geometry\n",
    "def get_lat(geom):\n",
    "    if isinstance(geom, Point):\n",
    "        return geom.y\n",
    "    elif isinstance(geom, Polygon):\n",
    "        return geom.centroid.y\n",
    "    return None\n",
    "\n",
    "def get_lon(geom):\n",
    "    if isinstance(geom, Point):\n",
    "        return geom.x\n",
    "    elif isinstance(geom, Polygon):\n",
    "        return geom.centroid.x\n",
    "    return None\n",
    "\n",
    "df[\"lat\"] = df[\"geometry\"].apply(get_lat)\n",
    "df[\"lon\"] = df[\"geometry\"].apply(get_lon)\n",
    "\n",
    "# Drop geometry if you don't need full shape anymore\n",
    "df = df.drop(columns=[\"geometry\"])\n",
    "\n",
    "# Optional: rename or reorder columns\n",
    "df = df[[\"element\", \"id\", \"name\", \"category\", \"lat\", \"lon\"]]\n",
    "\n",
    "# Save cleaned POIs\n",
    "df.to_csv(\"pois_cleaned.csv\", index=False)\n",
    "\n",
    "print(\"✅ Cleaned POIs (points + polygons) saved as pois_cleaned.csv\")\n"
   ]
  },
  {
   "cell_type": "code",
   "execution_count": null,
   "id": "10",
   "metadata": {},
   "outputs": [],
   "source": [
    "# Define the area — you can change this to \"Taxila, Pakistan\" or a bounding box\n",
    "place_name = \"Islamabad, Pakistan\"\n",
    "\n",
    "# Extract drivable road network graph\n",
    "G = ox.graph_from_place(place_name, network_type='drive')\n",
    "\n",
    "# Convert to GeoDataFrame (only edges — roads)\n",
    "edges = ox.graph_to_gdfs(G, nodes=False)\n",
    "\n",
    "# Optional: Select only useful columns to save\n",
    "columns_to_save = ['length', 'highway', 'geometry']\n",
    "edges = edges[columns_to_save]\n",
    "\n",
    "# Save to CSV\n",
    "edges.to_csv(\"road_network_edges.csv\", index=False)\n",
    "\n",
    "print(\"✅ Road network saved to road_network_edges.csv\")\n"
   ]
  },
  {
   "cell_type": "code",
   "execution_count": null,
   "id": "11",
   "metadata": {},
   "outputs": [],
   "source": [
    "import osmnx.features as oxf  # ✅ required for feature extraction\n",
    "\n",
    "tags = {'landuse': True}\n",
    "\n",
    "# Extract land use geometries\n",
    "landuse = oxf.features_from_place(place_name, tags)\n",
    "\n",
    "# Optional: Select relevant columns\n",
    "landuse_filtered = landuse[['landuse', 'geometry']].copy()\n",
    "\n",
    "# Save to CSV\n",
    "landuse_filtered.to_csv(\"landuse.csv\", index=False)\n",
    "\n",
    "print(\"✅ Land use data saved to landuse.csv\")"
   ]
  },
  {
   "cell_type": "code",
   "execution_count": null,
   "id": "12",
   "metadata": {},
   "outputs": [],
   "source": [
    "new_tags = {'building': True}\n",
    "\n",
    "buildings = oxf.features_from_place(place_name, new_tags)\n",
    "\n",
    "fil = buildings[['building', 'geometry']].copy()\n",
    "fil.to_csv('buildings_data.csv', index = False)\n"
   ]
  },
  {
   "cell_type": "code",
   "execution_count": null,
   "id": "13",
   "metadata": {},
   "outputs": [],
   "source": [
    "import shutil\n",
    "\n",
    "shutil.rmtree(\"C:/Users/tehma/OneDrive/Desktop/Shop Prediction Model/SHOP_PROJECT/cache\")"
   ]
  },
  {
   "cell_type": "code",
   "execution_count": null,
   "id": "14",
   "metadata": {},
   "outputs": [],
   "source": [
    "df_new = pd.read_csv(\"pois_cleaned.csv\")\n",
    "df_new.head()"
   ]
  },
  {
   "cell_type": "code",
   "execution_count": null,
   "id": "15",
   "metadata": {},
   "outputs": [],
   "source": [
    "df_new.sample(10)"
   ]
  },
  {
   "cell_type": "code",
   "execution_count": null,
   "id": "16",
   "metadata": {},
   "outputs": [],
   "source": [
    "df_new.describe()"
   ]
  }
 ],
 "metadata": {
  "kernelspec": {
   "display_name": "Python 3",
   "language": "python",
   "name": "python3"
  },
  "language_info": {
   "codemirror_mode": {
    "name": "ipython",
    "version": 3
   },
   "file_extension": ".py",
   "mimetype": "text/x-python",
   "name": "python",
   "nbconvert_exporter": "python",
   "pygments_lexer": "ipython3",
   "version": "3.10.0"
  }
 },
 "nbformat": 4,
 "nbformat_minor": 5
}
