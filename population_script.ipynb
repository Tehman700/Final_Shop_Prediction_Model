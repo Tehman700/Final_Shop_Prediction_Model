{
 "cells": [
  {
   "cell_type": "code",
   "execution_count": null,
   "id": "0",
   "metadata": {},
   "outputs": [],
   "source": [
    "import pandas as pd\n",
    "url = 'https://www.citypopulation.de/en/pakistan/admin/islamabad/501__islamabad/'\n",
    "\n",
    "tables = pd.read_html(url)\n",
    "\n",
    "print(f\"Found {len(tables)} tables.\")\n",
    "\n",
    "pop_df = tables[0]\n",
    "print(pop_df.columns)\n",
    "print(pop_df.head())\n",
    "\n",
    "pop_df.to_csv('population_data.csv', index=False)\n",
    "\n",
    "print(\"✅ Population data saved as population_data.csv\")\n"
   ]
  }
 ],
 "metadata": {
  "kernelspec": {
   "display_name": ".venv",
   "language": "python",
   "name": "python3"
  },
  "language_info": {
   "codemirror_mode": {
    "name": "ipython",
    "version": 3
   },
   "file_extension": ".py",
   "mimetype": "text/x-python",
   "name": "python",
   "nbconvert_exporter": "python",
   "pygments_lexer": "ipython3",
   "version": "3.13.3"
  }
 },
 "nbformat": 4,
 "nbformat_minor": 5
}
