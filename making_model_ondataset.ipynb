{
 "cells": [
  {
   "cell_type": "markdown",
   "id": "0",
   "metadata": {},
   "source": [
    "# This is the Notebook used for cleaning all the features from grid_features.csv File that contains final feaetures from each Grid"
   ]
  },
  {
   "cell_type": "code",
   "execution_count": null,
   "id": "1",
   "metadata": {},
   "outputs": [],
   "source": [
    "import pandas as pd\n",
    "import matplotlib.pyplot as plt\n",
    "import seaborn as sns\n",
    "\n",
    "\n",
    "my_data = pd.read_csv(\"grid_features.csv\")"
   ]
  },
  {
   "cell_type": "code",
   "execution_count": null,
   "id": "2",
   "metadata": {},
   "outputs": [],
   "source": [
    "my_data.head()"
   ]
  },
  {
   "cell_type": "code",
   "execution_count": null,
   "id": "3",
   "metadata": {},
   "outputs": [],
   "source": [
    "my_data.sample(20)"
   ]
  },
  {
   "cell_type": "code",
   "execution_count": null,
   "id": "4",
   "metadata": {},
   "outputs": [],
   "source": [
    "stats_df = my_data.describe()\n",
    "\n",
    "low_count_cols = stats_df.loc['count'] < 10\n",
    "\n",
    "\n",
    "filtered_df = my_data.drop(columns=low_count_cols[low_count_cols].index)\n",
    "\n",
    "# Optional: Print removed columns\n",
    "print(\"Dropped columns:\", list(low_count_cols[low_count_cols].index))\n"
   ]
  },
  {
   "cell_type": "code",
   "execution_count": null,
   "id": "5",
   "metadata": {},
   "outputs": [],
   "source": [
    "filtered_df.describe()"
   ]
  },
  {
   "cell_type": "code",
   "execution_count": null,
   "id": "6",
   "metadata": {},
   "outputs": [],
   "source": [
    "filtered_df.sample(20)"
   ]
  },
  {
   "cell_type": "code",
   "execution_count": null,
   "id": "7",
   "metadata": {},
   "outputs": [],
   "source": [
    "import osmnx as ox\n",
    "\n",
    "# Download university data\n",
    "tags = {\"amenity\": \"pharmacy\"}\n",
    "gdf = ox.features_from_place(\"Islamabad, Pakistan\", tags=tags)\n",
    "\n",
    "# Extract and save\n",
    "gdf = gdf[[\"name\", \"geometry\"]].dropna()\n",
    "gdf[\"lat\"] = gdf.geometry.centroid.y\n",
    "gdf[\"lon\"] = gdf.geometry.centroid.x\n",
    "gdf.to_csv(\"pharmacy_osm.csv\", index=False)"
   ]
  },
  {
   "cell_type": "code",
   "execution_count": null,
   "id": "8",
   "metadata": {},
   "outputs": [],
   "source": []
  }
 ],
 "metadata": {
  "kernelspec": {
   "display_name": "Python 3",
   "language": "python",
   "name": "python3"
  },
  "language_info": {
   "codemirror_mode": {
    "name": "ipython",
    "version": 3
   },
   "file_extension": ".py",
   "mimetype": "text/x-python",
   "name": "python",
   "nbconvert_exporter": "python",
   "pygments_lexer": "ipython3",
   "version": "3.10.0"
  }
 },
 "nbformat": 4,
 "nbformat_minor": 5
}
