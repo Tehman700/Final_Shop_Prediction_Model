{
 "cells": [
  {
   "cell_type": "markdown",
   "id": "0",
   "metadata": {},
   "source": [
    "# This is the Notebook used for cleaning all the features from grid_features.csv File that contains final feaetures from each Grid"
   ]
  },
  {
   "cell_type": "code",
   "execution_count": null,
   "id": "1",
   "metadata": {},
   "outputs": [],
   "source": [
    "import pandas as pd\n",
    "import matplotlib.pyplot as plt\n",
    "import seaborn as sns\n",
    "\n",
    "\n",
    "my_data = pd.read_csv(\"grid_features.csv\")"
   ]
  },
  {
   "cell_type": "code",
   "execution_count": null,
   "id": "2",
   "metadata": {},
   "outputs": [],
   "source": [
    "my_data.head()"
   ]
  },
  {
   "cell_type": "code",
   "execution_count": null,
   "id": "3",
   "metadata": {},
   "outputs": [],
   "source": [
    "my_data.sample(20)"
   ]
  },
  {
   "cell_type": "code",
   "execution_count": null,
   "id": "4",
   "metadata": {},
   "outputs": [],
   "source": [
    "stats_df = my_data.describe()\n",
    "\n",
    "low_count_cols = stats_df.loc['count'] < 10\n",
    "\n",
    "\n",
    "filtered_df = my_data.drop(columns=low_count_cols[low_count_cols].index)\n",
    "\n",
    "# Optional: Print removed columns\n",
    "print(\"Dropped columns:\", list(low_count_cols[low_count_cols].index))\n"
   ]
  },
  {
   "cell_type": "code",
   "execution_count": null,
   "id": "5",
   "metadata": {},
   "outputs": [],
   "source": [
    "filtered_df.describe()"
   ]
  },
  {
   "cell_type": "code",
   "execution_count": null,
   "id": "6",
   "metadata": {},
   "outputs": [],
   "source": [
    "filtered_df.sample(20)"
   ]
  },
  {
   "cell_type": "code",
   "execution_count": null,
   "id": "7",
   "metadata": {},
   "outputs": [],
   "source": [
    "import osmnx as ox\n",
    "\n",
    "# Download university data\n",
    "tags = {\"amenity\": \"parking\"}\n",
    "gdf = ox.features_from_place(\"Islamabad, Pakistan\", tags=tags)\n",
    "\n",
    "# Extract and save\n",
    "gdf = gdf[[\"name\", \"geometry\"]].dropna()\n",
    "gdf[\"lat\"] = gdf.geometry.centroid.y\n",
    "gdf[\"lon\"] = gdf.geometry.centroid.x\n",
    "gdf.to_csv(\"parking_osm.csv\", index=False)"
   ]
  },
  {
   "cell_type": "code",
   "execution_count": null,
   "id": "8",
   "metadata": {},
   "outputs": [],
   "source": [
    "fi = pd.read_csv(\"parking_osm.csv\")\n",
    "fi = fi.drop(\"geometry\",axis =1)\n",
    "fi.head()\n",
    "fi.to_csv(\"first_parking.csv\")\n"
   ]
  },
  {
   "cell_type": "code",
   "execution_count": null,
   "id": "9",
   "metadata": {},
   "outputs": [],
   "source": [
    "import pandas as pd\n",
    "import googlemaps\n",
    "import time\n",
    "import os\n",
    "\n",
    "# Load your pharmacy dataset\n",
    "df = pd.read_csv(\"first_parking.csv\")\n",
    "\n",
    "# Initialize Google Maps API\n",
    "\n",
    "API_KEY = os.getenv(\"key\")\n",
    "gmaps = googlemaps.Client(key=API_KEY)\n",
    "\n",
    "# Prepare columns\n",
    "df[\"rating\"] = None\n",
    "df[\"user_ratings_total\"] = None\n",
    "\n",
    "# Search for each pharmacy using name and location\n",
    "for idx, row in df.iterrows():\n",
    "    name = row[\"name\"]\n",
    "    lat = row[\"lat\"]\n",
    "    lon = row[\"lon\"]\n",
    "    \n",
    "    try:\n",
    "        # Search with name and location bias\n",
    "        result = gmaps.places(query=name, location=(lat, lon), radius=100)\n",
    "        if result[\"results\"]:\n",
    "            top = result[\"results\"][0]\n",
    "            df.at[idx, \"rating\"] = top.get(\"rating\")\n",
    "            df.at[idx, \"user_ratings_total\"] = top.get(\"user_ratings_total\")\n",
    "        \n",
    "        time.sleep(1)  # Be polite to the API\n",
    "    except Exception as e:\n",
    "        print(f\"Error at index {idx}: {e}\")\n",
    "        continue\n",
    "\n",
    "# Save the enriched dataset\n",
    "df.to_csv(\"SHOP_PROJECT\\All_Shops_Data_CSV\\parking_with_ratings.csv\", index=False)\n",
    "print(\"✅ Done!\")\n"
   ]
  },
  {
   "cell_type": "code",
   "execution_count": null,
   "id": "10",
   "metadata": {},
   "outputs": [],
   "source": []
  }
 ],
 "metadata": {
  "kernelspec": {
   "display_name": "Python 3",
   "language": "python",
   "name": "python3"
  },
  "language_info": {
   "codemirror_mode": {
    "name": "ipython",
    "version": 3
   },
   "file_extension": ".py",
   "mimetype": "text/x-python",
   "name": "python",
   "nbconvert_exporter": "python",
   "pygments_lexer": "ipython3",
   "version": "3.10.0"
  }
 },
 "nbformat": 4,
 "nbformat_minor": 5
}
